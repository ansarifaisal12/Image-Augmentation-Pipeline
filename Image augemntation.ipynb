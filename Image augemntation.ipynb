{
 "cells": [
  {
   "cell_type": "code",
   "execution_count": 2,
   "metadata": {},
   "outputs": [
    {
     "name": "stderr",
     "output_type": "stream",
     "text": [
      "  WARNING: The script tqdm.exe is installed in 'C:\\Users\\Rashid\\AppData\\Roaming\\Python\\Python310\\Scripts' which is not on PATH.\n",
      "  Consider adding this directory to PATH or, if you prefer to suppress this warning, use --no-warn-script-location.\n",
      "  WARNING: The scripts futurize.exe and pasteurize.exe are installed in 'C:\\Users\\Rashid\\AppData\\Roaming\\Python\\Python310\\Scripts' which is not on PATH.\n",
      "  Consider adding this directory to PATH or, if you prefer to suppress this warning, use --no-warn-script-location.\n",
      "\n",
      "[notice] A new release of pip available: 22.3.1 -> 23.0.1\n",
      "[notice] To update, run: python.exe -m pip install --upgrade pip\n"
     ]
    },
    {
     "name": "stdout",
     "output_type": "stream",
     "text": [
      "Defaulting to user installation because normal site-packages is not writeable\n",
      "Collecting augmentor\n",
      "  Downloading Augmentor-0.2.10-py2.py3-none-any.whl (38 kB)\n",
      "Requirement already satisfied: Pillow>=5.2.0 in c:\\users\\rashid\\appdata\\roaming\\python\\python310\\site-packages (from augmentor) (9.2.0)\n",
      "Requirement already satisfied: numpy>=1.11.0 in c:\\users\\rashid\\appdata\\roaming\\python\\python310\\site-packages (from augmentor) (1.23.3)\n",
      "Collecting tqdm>=4.9.0\n",
      "  Downloading tqdm-4.64.1-py2.py3-none-any.whl (78 kB)\n",
      "     -------------------------------------- 78.5/78.5 kB 625.9 kB/s eta 0:00:00\n",
      "Collecting future>=0.16.0\n",
      "  Downloading future-0.18.3.tar.gz (840 kB)\n",
      "     -------------------------------------- 840.9/840.9 kB 1.1 MB/s eta 0:00:00\n",
      "  Preparing metadata (setup.py): started\n",
      "  Preparing metadata (setup.py): finished with status 'done'\n",
      "Requirement already satisfied: colorama in c:\\users\\rashid\\appdata\\roaming\\python\\python310\\site-packages (from tqdm>=4.9.0->augmentor) (0.4.5)\n",
      "Building wheels for collected packages: future\n",
      "  Building wheel for future (setup.py): started\n",
      "  Building wheel for future (setup.py): finished with status 'done'\n",
      "  Created wheel for future: filename=future-0.18.3-py3-none-any.whl size=492055 sha256=59fb1dbd5921a72d1e97572a7b165ab67d6f5f8e21c5d01a43f9a05de0323977\n",
      "  Stored in directory: c:\\users\\rashid\\appdata\\local\\pip\\cache\\wheels\\69\\c0\\ce\\f2a18105d619f21239a048bcc58e98d8ce47ac824e0531f1a0\n",
      "Successfully built future\n",
      "Installing collected packages: tqdm, future, augmentor\n",
      "Successfully installed augmentor-0.2.10 future-0.18.3 tqdm-4.64.1\n"
     ]
    }
   ],
   "source": [
    "!pip install augmentor"
   ]
  },
  {
   "cell_type": "code",
   "execution_count": 7,
   "metadata": {},
   "outputs": [],
   "source": [
    "#import libraries\n",
    "import Augmentor"
   ]
  },
  {
   "cell_type": "code",
   "execution_count": 14,
   "metadata": {},
   "outputs": [
    {
     "name": "stdout",
     "output_type": "stream",
     "text": [
      "Initialised with 7 image(s) found.\n",
      "Output directory set to C:\\Users\\Rashid\\Documents\\Weather\\rainy\\output."
     ]
    }
   ],
   "source": [
    "# Define the pipeline with the path to your image directory\n",
    "p = Augmentor.Pipeline(r\"C:\\Users\\Rashid\\Documents\\Weather\\rainy\")"
   ]
  },
  {
   "cell_type": "code",
   "execution_count": 15,
   "metadata": {},
   "outputs": [],
   "source": [
    "# Add augmentation techniques with their respective parameters\n",
    "p.zoom(probability=0.3, min_factor=0.8, max_factor=1.5)\n",
    "p.flip_top_bottom(probability=0.4)\n",
    "p.random_brightness(probability=0.3, min_factor=0.3, max_factor=1.2)\n",
    "p.random_distortion(probability=1, grid_width=4, grid_height=4, magnitude=8)"
   ]
  },
  {
   "cell_type": "code",
   "execution_count": 16,
   "metadata": {},
   "outputs": [],
   "source": [
    "# Add additional augmentation techniques to the pipeline\n",
    "p.rotate(probability=0.5, max_left_rotation=10, max_right_rotation=10)\n",
    "p.skew(probability=0.3, magnitude=0.2)\n",
    "p.random_contrast(probability=0.5, min_factor=0.5, max_factor=1.5)\n",
    "p.random_erasing(probability=0.3, rectangle_area=0.2)\n"
   ]
  },
  {
   "cell_type": "code",
   "execution_count": 18,
   "metadata": {},
   "outputs": [
    {
     "name": "stderr",
     "output_type": "stream",
     "text": [
      "Processing <PIL.Image.Image image mode=RGB size=299x168 at 0x26236CEE110>: 100%|█| 100/100 [00:01<00:00, 71.33 Samples/\n"
     ]
    }
   ],
   "source": [
    "# Generate 200 augmented images\n",
    "p.sample(100)"
   ]
  },
  {
   "cell_type": "code",
   "execution_count": null,
   "metadata": {},
   "outputs": [],
   "source": []
  }
 ],
 "metadata": {
  "kernelspec": {
   "display_name": "Python 3 (ipykernel)",
   "language": "python",
   "name": "python3"
  },
  "language_info": {
   "codemirror_mode": {
    "name": "ipython",
    "version": 3
   },
   "file_extension": ".py",
   "mimetype": "text/x-python",
   "name": "python",
   "nbconvert_exporter": "python",
   "pygments_lexer": "ipython3",
   "version": "3.10.8"
  }
 },
 "nbformat": 4,
 "nbformat_minor": 4
}
